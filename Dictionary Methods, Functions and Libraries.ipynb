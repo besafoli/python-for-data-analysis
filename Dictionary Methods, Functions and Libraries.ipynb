{
 "cells": [
  {
   "cell_type": "markdown",
   "metadata": {},
   "source": [
    "### Python Methods, Functions and Libraries"
   ]
  },
  {
   "cell_type": "markdown",
   "metadata": {},
   "source": [
    "Link to Referenced Tutorial: \n",
    "<a>mode.com/python-tutorial</a>"
   ]
  },
  {
   "cell_type": "markdown",
   "metadata": {},
   "source": [
    "1. Dictionary Methods : ```.keys()``` and ```.values```\n",
    "2. Functions: ```print```, ```type```,```len```\n",
    "3. Using ```import``` to import libraries eg. pandas"
   ]
  },
  {
   "cell_type": "markdown",
   "metadata": {},
   "source": [
    "### 1. Dictionary Methods\n",
    "#### Methods are a set of instructions that are associated with an object (eg. string, list, dictionary, etc) and perform specific tasks"
   ]
  },
  {
   "cell_type": "code",
   "execution_count": 1,
   "metadata": {},
   "outputs": [],
   "source": [
    "country_population = {\n",
    "    'Ghana': 30420000,\n",
    "    'United States':328200000,\n",
    "    'Canada':37590000,\n",
    "    'South Africa':58560000,\n",
    "    'Argentina':44940000\n",
    "}\n",
    "\n",
    "##Ghana has 16 regions, United States has 50 States and Canada has 13 Provinces\n",
    "regions = {\n",
    "    'Ghana'        : [    'Ashanti'\n",
    "                        , 'Bono'\n",
    "                        , 'Bono East'\n",
    "                        , 'Ahafo'\n",
    "                        , 'Central'\n",
    "                        , 'Eastern'\n",
    "                        , 'Greater Accra'\n",
    "                        , 'Northern'\n",
    "                        , 'Savannah'\n",
    "                        , 'North East'\n",
    "                        , 'Upper East'\n",
    "                        , 'Upper West'\n",
    "                        , 'Volta'\n",
    "                        , 'Oti'\n",
    "                        , 'Western'\n",
    "                        , 'Western North'\n",
    "                     ],\n",
    "    'United States': [    'Alabama'\n",
    "                        , 'Alaska'\n",
    "                        , 'Arizona'\n",
    "                        , 'Arkansas'\n",
    "                        , 'California'\n",
    "                        , 'Colorado'\n",
    "                        , 'Connecticut'\n",
    "                        , 'Delaware'\n",
    "                        , 'Florida'\n",
    "                        , 'Georgia'\n",
    "                        , 'Hawaii'\n",
    "                        , 'Idaho'\n",
    "                        , 'Illinois'\n",
    "                        , 'Indiana'\n",
    "                        , 'Iowa'\n",
    "                        , 'Kansas'\n",
    "                        , 'Kentucky'\n",
    "                        , 'Louisiana'\n",
    "                        , 'Maine'\n",
    "                        , 'Maryland'\n",
    "                        , 'Massachusetts'\n",
    "                        , 'Michigan'\n",
    "                        , 'Minnesota'\n",
    "                        , 'Mississippi'\n",
    "                        , 'Missouri'\n",
    "                        , 'Montana'\n",
    "                        , 'Nebraska'\n",
    "                        , 'Nevada'\n",
    "                        , 'New Hampshire'\n",
    "                        , 'New Jersey'\n",
    "                        , 'New Mexico'\n",
    "                        , 'New York'\n",
    "                        , 'North Carolina'\n",
    "                        , 'North Dakota'\n",
    "                        , 'Ohio'\n",
    "                        , 'Oklahoma'\n",
    "                        , 'Oregon'\n",
    "                        , 'Pennsylvania'\n",
    "                        , 'Rhode Island'\n",
    "                        , 'South Carolina'\n",
    "                        , 'South Dakota'\n",
    "                        , 'Tennessee'\n",
    "                        , 'Texas'\n",
    "                        , 'Utah'\n",
    "                        , 'Vermont'\n",
    "                        , 'Virginia'\n",
    "                        , 'Washington'\n",
    "                        , 'West Virginia'\n",
    "                        , 'Wisconsin'\n",
    "                        , 'Wyoming'\n",
    "                     ],\n",
    "    'Canada'       : [    'Alberta'\n",
    "                        , 'British Columbia'\n",
    "                        , 'Manitoba'\n",
    "                        , 'New Brunswick'\n",
    "                        , 'Newfoundland and Labrador'\n",
    "                        , 'Northwest Territories'\n",
    "                        , 'Nova Scotia'\n",
    "                        , 'Nunavut'\n",
    "                        , 'Ontario'\n",
    "                        , 'Prince Edward Island'\n",
    "                        , 'Quebec'\n",
    "                        , 'Saskatchewan'\n",
    "                        , 'Yukon'\n",
    "                     ]\n",
    "}"
   ]
  },
  {
   "cell_type": "code",
   "execution_count": 2,
   "metadata": {},
   "outputs": [
    {
     "data": {
      "text/plain": [
       "dict_keys(['Ghana', 'United States', 'Canada', 'South Africa', 'Argentina'])"
      ]
     },
     "execution_count": 2,
     "metadata": {},
     "output_type": "execute_result"
    }
   ],
   "source": [
    "country_population.keys()"
   ]
  },
  {
   "cell_type": "code",
   "execution_count": 3,
   "metadata": {},
   "outputs": [
    {
     "data": {
      "text/plain": [
       "dict_keys(['Ghana', 'United States', 'Canada'])"
      ]
     },
     "execution_count": 3,
     "metadata": {},
     "output_type": "execute_result"
    }
   ],
   "source": [
    "regions.keys()"
   ]
  },
  {
   "cell_type": "code",
   "execution_count": 4,
   "metadata": {},
   "outputs": [
    {
     "data": {
      "text/plain": [
       "dict_values([30420000, 328200000, 37590000, 58560000, 44940000])"
      ]
     },
     "execution_count": 4,
     "metadata": {},
     "output_type": "execute_result"
    }
   ],
   "source": [
    "country_population.values()"
   ]
  },
  {
   "cell_type": "code",
   "execution_count": 5,
   "metadata": {},
   "outputs": [
    {
     "data": {
      "text/plain": [
       "dict_values([['Ashanti', 'Bono', 'Bono East', 'Ahafo', 'Central', 'Eastern', 'Greater Accra', 'Northern', 'Savannah', 'North East', 'Upper East', 'Upper West', 'Volta', 'Oti', 'Western', 'Western North'], ['Alabama', 'Alaska', 'Arizona', 'Arkansas', 'California', 'Colorado', 'Connecticut', 'Delaware', 'Florida', 'Georgia', 'Hawaii', 'Idaho', 'Illinois', 'Indiana', 'Iowa', 'Kansas', 'Kentucky', 'Louisiana', 'Maine', 'Maryland', 'Massachusetts', 'Michigan', 'Minnesota', 'Mississippi', 'Missouri', 'Montana', 'Nebraska', 'Nevada', 'New Hampshire', 'New Jersey', 'New Mexico', 'New York', 'North Carolina', 'North Dakota', 'Ohio', 'Oklahoma', 'Oregon', 'Pennsylvania', 'Rhode Island', 'South Carolina', 'South Dakota', 'Tennessee', 'Texas', 'Utah', 'Vermont', 'Virginia', 'Washington', 'West Virginia', 'Wisconsin', 'Wyoming'], ['Alberta', 'British Columbia', 'Manitoba', 'New Brunswick', 'Newfoundland and Labrador', 'Northwest Territories', 'Nova Scotia', 'Nunavut', 'Ontario', 'Prince Edward Island', 'Quebec', 'Saskatchewan', 'Yukon']])"
      ]
     },
     "execution_count": 5,
     "metadata": {},
     "output_type": "execute_result"
    }
   ],
   "source": [
    "regions.values()"
   ]
  },
  {
   "cell_type": "markdown",
   "metadata": {},
   "source": [
    "### 2. Functions\n",
    "#### A set of instructions that perform a specific task. There are built-in and user-defined functions.\n",
    "#### One key advantage of using functions is that they make it easy to recycle code"
   ]
  },
  {
   "cell_type": "markdown",
   "metadata": {},
   "source": [
    "print\n",
    "\n",
    "type\n",
    "\n",
    "len"
   ]
  },
  {
   "cell_type": "code",
   "execution_count": 6,
   "metadata": {},
   "outputs": [
    {
     "name": "stdout",
     "output_type": "stream",
     "text": [
      "dict_keys(['Ghana', 'United States', 'Canada', 'South Africa', 'Argentina'])\n"
     ]
    }
   ],
   "source": [
    "print(country_population.keys())"
   ]
  },
  {
   "cell_type": "code",
   "execution_count": 7,
   "metadata": {},
   "outputs": [
    {
     "name": "stdout",
     "output_type": "stream",
     "text": [
      "dict_values([30420000, 328200000, 37590000, 58560000, 44940000])\n"
     ]
    }
   ],
   "source": [
    "print(country_population.values())"
   ]
  },
  {
   "cell_type": "code",
   "execution_count": 8,
   "metadata": {},
   "outputs": [
    {
     "data": {
      "text/plain": [
       "dict"
      ]
     },
     "execution_count": 8,
     "metadata": {},
     "output_type": "execute_result"
    }
   ],
   "source": [
    "type(regions)"
   ]
  },
  {
   "cell_type": "code",
   "execution_count": 9,
   "metadata": {},
   "outputs": [
    {
     "data": {
      "text/plain": [
       "dict_keys"
      ]
     },
     "execution_count": 9,
     "metadata": {},
     "output_type": "execute_result"
    }
   ],
   "source": [
    "type(regions.keys())"
   ]
  },
  {
   "cell_type": "code",
   "execution_count": 10,
   "metadata": {},
   "outputs": [
    {
     "data": {
      "text/plain": [
       "dict_values"
      ]
     },
     "execution_count": 10,
     "metadata": {},
     "output_type": "execute_result"
    }
   ],
   "source": [
    "type(regions.values())"
   ]
  },
  {
   "cell_type": "code",
   "execution_count": 11,
   "metadata": {},
   "outputs": [
    {
     "data": {
      "text/plain": [
       "3"
      ]
     },
     "execution_count": 11,
     "metadata": {},
     "output_type": "execute_result"
    }
   ],
   "source": [
    "len(regions)"
   ]
  },
  {
   "cell_type": "code",
   "execution_count": 12,
   "metadata": {},
   "outputs": [
    {
     "data": {
      "text/plain": [
       "5"
      ]
     },
     "execution_count": 12,
     "metadata": {},
     "output_type": "execute_result"
    }
   ],
   "source": [
    "len(country_population)"
   ]
  },
  {
   "cell_type": "code",
   "execution_count": 13,
   "metadata": {},
   "outputs": [],
   "source": [
    "regions_list = list(regions.values())"
   ]
  },
  {
   "cell_type": "code",
   "execution_count": 14,
   "metadata": {},
   "outputs": [
    {
     "data": {
      "text/plain": [
       "3"
      ]
     },
     "execution_count": 14,
     "metadata": {},
     "output_type": "execute_result"
    }
   ],
   "source": [
    "len(regions_list)"
   ]
  },
  {
   "cell_type": "code",
   "execution_count": 15,
   "metadata": {},
   "outputs": [
    {
     "data": {
      "text/plain": [
       "[['Ashanti',\n",
       "  'Bono',\n",
       "  'Bono East',\n",
       "  'Ahafo',\n",
       "  'Central',\n",
       "  'Eastern',\n",
       "  'Greater Accra',\n",
       "  'Northern',\n",
       "  'Savannah',\n",
       "  'North East',\n",
       "  'Upper East',\n",
       "  'Upper West',\n",
       "  'Volta',\n",
       "  'Oti',\n",
       "  'Western',\n",
       "  'Western North'],\n",
       " ['Alabama',\n",
       "  'Alaska',\n",
       "  'Arizona',\n",
       "  'Arkansas',\n",
       "  'California',\n",
       "  'Colorado',\n",
       "  'Connecticut',\n",
       "  'Delaware',\n",
       "  'Florida',\n",
       "  'Georgia',\n",
       "  'Hawaii',\n",
       "  'Idaho',\n",
       "  'Illinois',\n",
       "  'Indiana',\n",
       "  'Iowa',\n",
       "  'Kansas',\n",
       "  'Kentucky',\n",
       "  'Louisiana',\n",
       "  'Maine',\n",
       "  'Maryland',\n",
       "  'Massachusetts',\n",
       "  'Michigan',\n",
       "  'Minnesota',\n",
       "  'Mississippi',\n",
       "  'Missouri',\n",
       "  'Montana',\n",
       "  'Nebraska',\n",
       "  'Nevada',\n",
       "  'New Hampshire',\n",
       "  'New Jersey',\n",
       "  'New Mexico',\n",
       "  'New York',\n",
       "  'North Carolina',\n",
       "  'North Dakota',\n",
       "  'Ohio',\n",
       "  'Oklahoma',\n",
       "  'Oregon',\n",
       "  'Pennsylvania',\n",
       "  'Rhode Island',\n",
       "  'South Carolina',\n",
       "  'South Dakota',\n",
       "  'Tennessee',\n",
       "  'Texas',\n",
       "  'Utah',\n",
       "  'Vermont',\n",
       "  'Virginia',\n",
       "  'Washington',\n",
       "  'West Virginia',\n",
       "  'Wisconsin',\n",
       "  'Wyoming'],\n",
       " ['Alberta',\n",
       "  'British Columbia',\n",
       "  'Manitoba',\n",
       "  'New Brunswick',\n",
       "  'Newfoundland and Labrador',\n",
       "  'Northwest Territories',\n",
       "  'Nova Scotia',\n",
       "  'Nunavut',\n",
       "  'Ontario',\n",
       "  'Prince Edward Island',\n",
       "  'Quebec',\n",
       "  'Saskatchewan',\n",
       "  'Yukon']]"
      ]
     },
     "execution_count": 15,
     "metadata": {},
     "output_type": "execute_result"
    }
   ],
   "source": [
    "regions_list"
   ]
  },
  {
   "cell_type": "code",
   "execution_count": 16,
   "metadata": {},
   "outputs": [
    {
     "name": "stdout",
     "output_type": "stream",
     "text": [
      "USA has 50 states\n"
     ]
    }
   ],
   "source": [
    "print(\"USA has {} states\".format(len(regions_list[1])))"
   ]
  },
  {
   "cell_type": "markdown",
   "metadata": {},
   "source": [
    "### User Defined Functions"
   ]
  },
  {
   "cell_type": "code",
   "execution_count": 17,
   "metadata": {},
   "outputs": [],
   "source": [
    "def myFunction(message):\n",
    "    print(message)"
   ]
  },
  {
   "cell_type": "code",
   "execution_count": 18,
   "metadata": {},
   "outputs": [
    {
     "name": "stdout",
     "output_type": "stream",
     "text": [
      "Hello My Name is Eugene\n"
     ]
    }
   ],
   "source": [
    "myFunction(\"Hello My Name is Eugene\")"
   ]
  },
  {
   "cell_type": "markdown",
   "metadata": {},
   "source": [
    "### 3. Importing Libraries"
   ]
  },
  {
   "cell_type": "code",
   "execution_count": 20,
   "metadata": {},
   "outputs": [],
   "source": [
    "import os       ###operating system interfaces"
   ]
  },
  {
   "cell_type": "markdown",
   "metadata": {},
   "source": [
    "https://docs.python.org/3/library/os.html"
   ]
  },
  {
   "cell_type": "code",
   "execution_count": 21,
   "metadata": {},
   "outputs": [
    {
     "data": {
      "text/plain": [
       "'/Users/eugenefoli/Desktop/Python For Data Analysis'"
      ]
     },
     "execution_count": 21,
     "metadata": {},
     "output_type": "execute_result"
    }
   ],
   "source": [
    "os.getcwd()  ## get current working directory"
   ]
  },
  {
   "cell_type": "code",
   "execution_count": 22,
   "metadata": {},
   "outputs": [
    {
     "data": {
      "text/plain": [
       "['More Plotting In Python.ipynb',\n",
       " 'Defining Python Functions.ipynb',\n",
       " 'Untitled1.ipynb',\n",
       " 'Dictionary Methods, Functions and Libraries.ipynb',\n",
       " '.DS_Store',\n",
       " 'Pandas Dataframes.ipynb',\n",
       " 'Basic Plotting in Python Using Pandas.ipynb',\n",
       " 'noshowappointments-kagglev2-may-2016.xlsx',\n",
       " 'Untitled.ipynb',\n",
       " 'How Models Work.ipynb',\n",
       " 'Aggregating Data, Lambda Functions and Pivot Tables.ipynb',\n",
       " 'Filtering Data.ipynb',\n",
       " 'Python for Data Analysis Original.mov',\n",
       " '.ipynb_checkpoints',\n",
       " 'Data Analysis Project - IPND.ipynb',\n",
       " 'Python for Data Analysis 1.mov',\n",
       " 'noshowappointments-kagglev2-may-2016.csv',\n",
       " 'Running_Python_Code.ipynb',\n",
       " 'mydir']"
      ]
     },
     "execution_count": 22,
     "metadata": {},
     "output_type": "execute_result"
    }
   ],
   "source": [
    "os.listdir(os.getcwd())"
   ]
  },
  {
   "cell_type": "code",
   "execution_count": 23,
   "metadata": {},
   "outputs": [],
   "source": [
    "os.chdir('mydir')"
   ]
  },
  {
   "cell_type": "code",
   "execution_count": 24,
   "metadata": {},
   "outputs": [
    {
     "data": {
      "text/plain": [
       "'/Users/eugenefoli/Desktop/Python For Data Analysis/mydir'"
      ]
     },
     "execution_count": 24,
     "metadata": {},
     "output_type": "execute_result"
    }
   ],
   "source": [
    "os.getcwd()"
   ]
  },
  {
   "cell_type": "code",
   "execution_count": 25,
   "metadata": {},
   "outputs": [
    {
     "data": {
      "text/plain": [
       "['4_Dictionaries_Methods_Functions.mp4',\n",
       " '.DS_Store',\n",
       " '2_Dictionaries_Methods_Functions.mp4',\n",
       " '5_Dictionaries_Methods_Functions.mp4',\n",
       " '3_Dictionaries_Methods_Functions.mp4',\n",
       " '6_Dictionaries_Methods_Functions.mp4',\n",
       " 'Dictionaries_Methods_Functions_Final.mov',\n",
       " 'Python for Data Analysis 2 - SD 480p.mov',\n",
       " '1_Dictionaries_Methods_Functions.mp4']"
      ]
     },
     "execution_count": 25,
     "metadata": {},
     "output_type": "execute_result"
    }
   ],
   "source": [
    "os.listdir(os.getcwd())"
   ]
  },
  {
   "cell_type": "code",
   "execution_count": 26,
   "metadata": {},
   "outputs": [],
   "source": [
    "os.chdir('../')"
   ]
  },
  {
   "cell_type": "code",
   "execution_count": 27,
   "metadata": {},
   "outputs": [
    {
     "data": {
      "text/plain": [
       "'/Users/eugenefoli/Desktop/Python For Data Analysis'"
      ]
     },
     "execution_count": 27,
     "metadata": {},
     "output_type": "execute_result"
    }
   ],
   "source": [
    "os.getcwd()"
   ]
  },
  {
   "cell_type": "code",
   "execution_count": 28,
   "metadata": {},
   "outputs": [],
   "source": [
    "import math"
   ]
  },
  {
   "cell_type": "markdown",
   "metadata": {},
   "source": [
    "https://docs.python.org/3/library/math.html"
   ]
  },
  {
   "cell_type": "code",
   "execution_count": 29,
   "metadata": {},
   "outputs": [
    {
     "data": {
      "text/plain": [
       "6.123233995736766e-17"
      ]
     },
     "execution_count": 29,
     "metadata": {},
     "output_type": "execute_result"
    }
   ],
   "source": [
    "math.cos(math.pi/2)"
   ]
  },
  {
   "cell_type": "code",
   "execution_count": 30,
   "metadata": {},
   "outputs": [],
   "source": [
    "from numpy import mean"
   ]
  },
  {
   "cell_type": "code",
   "execution_count": 31,
   "metadata": {},
   "outputs": [
    {
     "data": {
      "text/plain": [
       "{'Ghana': 30420000,\n",
       " 'United States': 328200000,\n",
       " 'Canada': 37590000,\n",
       " 'South Africa': 58560000,\n",
       " 'Argentina': 44940000}"
      ]
     },
     "execution_count": 31,
     "metadata": {},
     "output_type": "execute_result"
    }
   ],
   "source": [
    "country_population"
   ]
  },
  {
   "cell_type": "code",
   "execution_count": 32,
   "metadata": {},
   "outputs": [
    {
     "data": {
      "text/plain": [
       "[30420000, 328200000, 37590000, 58560000, 44940000]"
      ]
     },
     "execution_count": 32,
     "metadata": {},
     "output_type": "execute_result"
    }
   ],
   "source": [
    "country_population_list = list(country_population.values())\n",
    "country_population_list"
   ]
  },
  {
   "cell_type": "code",
   "execution_count": 33,
   "metadata": {},
   "outputs": [
    {
     "data": {
      "text/plain": [
       "99942000.0"
      ]
     },
     "execution_count": 33,
     "metadata": {},
     "output_type": "execute_result"
    }
   ],
   "source": [
    "mean(country_population_list)"
   ]
  },
  {
   "cell_type": "code",
   "execution_count": 34,
   "metadata": {},
   "outputs": [],
   "source": [
    "import pandas"
   ]
  },
  {
   "cell_type": "code",
   "execution_count": null,
   "metadata": {},
   "outputs": [],
   "source": [
    "pandas.DataFrame()\n",
    "pandas.Series()"
   ]
  }
 ],
 "metadata": {
  "kernelspec": {
   "display_name": "Python 3",
   "language": "python",
   "name": "python3"
  },
  "language_info": {
   "codemirror_mode": {
    "name": "ipython",
    "version": 3
   },
   "file_extension": ".py",
   "mimetype": "text/x-python",
   "name": "python",
   "nbconvert_exporter": "python",
   "pygments_lexer": "ipython3",
   "version": "3.8.5"
  }
 },
 "nbformat": 4,
 "nbformat_minor": 4
}
